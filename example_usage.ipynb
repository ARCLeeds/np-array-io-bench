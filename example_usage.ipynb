{
  "nbformat": 4,
  "nbformat_minor": 0,
  "metadata": {
    "colab": {
      "name": "Untitled2.ipynb",
      "provenance": [],
      "collapsed_sections": [],
      "authorship_tag": "ABX9TyOO7zx1QqME8SKAwlqqi+kM",
      "include_colab_link": true
    },
    "kernelspec": {
      "name": "python3",
      "display_name": "Python 3"
    },
    "language_info": {
      "name": "python"
    }
  },
  "cells": [
    {
      "cell_type": "markdown",
      "metadata": {
        "id": "view-in-github",
        "colab_type": "text"
      },
      "source": [
        "<a href=\"https://colab.research.google.com/github/omasoud/np-array-io-bench/blob/main/example_usage.ipynb\" target=\"_parent\"><img src=\"https://colab.research.google.com/assets/colab-badge.svg\" alt=\"Open In Colab\"/></a>"
      ]
    },
    {
      "cell_type": "code",
      "source": [
        "!git clone https://github.com/omasoud/np-array-io-bench.git\n",
        "%cd np-array-io-bench"
      ],
      "metadata": {
        "id": "kDtg_Y9S4cJM"
      },
      "execution_count": null,
      "outputs": []
    },
    {
      "cell_type": "code",
      "source": [
        "!pip install -r requirements.txt > /dev/null"
      ],
      "metadata": {
        "id": "5ELzSYzBchFB"
      },
      "execution_count": null,
      "outputs": []
    },
    {
      "cell_type": "code",
      "source": [
        ""
      ],
      "metadata": {
        "id": "xxgn8J4acjTZ"
      },
      "execution_count": null,
      "outputs": []
    },
    {
      "cell_type": "code",
      "source": [
        "# run benchmark\n",
        "%run npabench.py --max-size 1mb --notebook"
      ],
      "metadata": {
        "id": "erKx9md30NuR"
      },
      "execution_count": null,
      "outputs": []
    },
    {
      "cell_type": "code",
      "source": [
        "# show results from a previous run\n",
        "%run npabench.py -s <RESULTS_FILE.pkl> --notebook"
      ],
      "metadata": {
        "id": "2-nXmujGdKqt"
      },
      "execution_count": null,
      "outputs": []
    },
    {
      "cell_type": "code",
      "source": [
        ""
      ],
      "metadata": {
        "id": "S7GrV57KdJyc"
      },
      "execution_count": null,
      "outputs": []
    },
    {
      "cell_type": "code",
      "source": [
        ""
      ],
      "metadata": {
        "id": "C8tJdFWbdfcV"
      },
      "execution_count": null,
      "outputs": []
    },
    {
      "cell_type": "code",
      "source": [
        "# This allows widet rendering in notebook \n",
        "# from google.colab import output\n",
        "# output.enable_custom_widget_manager()\n",
        "# %matplotlib widget"
      ],
      "metadata": {
        "id": "tdgCPYc4LdE1"
      },
      "execution_count": null,
      "outputs": []
    },
    {
      "cell_type": "code",
      "source": [
        ""
      ],
      "metadata": {
        "id": "cjgDFG3Y0Okw"
      },
      "execution_count": null,
      "outputs": []
    },
    {
      "cell_type": "code",
      "source": [
        ""
      ],
      "metadata": {
        "id": "D0O8N2Ax0OnJ"
      },
      "execution_count": null,
      "outputs": []
    }
  ]
}